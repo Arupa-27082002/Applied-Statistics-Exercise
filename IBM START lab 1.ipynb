{
 "cells": [
  {
   "cell_type": "code",
   "execution_count": 7,
   "id": "120fbef9-e286-4bd0-8875-aab80b36fa9a",
   "metadata": {},
   "outputs": [
    {
     "name": "stdout",
     "output_type": "stream",
     "text": [
      "<class 'numpy.ndarray'>\n",
      "(3,)\n",
      "[[0. 0.]\n",
      " [0. 0.]]\n",
      "[[1. 1.]]\n",
      "[[7 7]\n",
      " [7 7]]\n",
      "[[1. 0.]\n",
      " [0. 1.]]\n",
      "[[1. 0.]\n",
      " [0. 1.]]\n"
     ]
    }
   ],
   "source": [
    "#Numpy Advance \n",
    "import numpy as np\n",
    "a=np.array([1,2,3])\n",
    "print(type(a))\n",
    "print(a.shape)\n",
    "b=np.zeros((2,2))\n",
    "print(b)\n",
    "c=np.ones((1,2))\n",
    "print(c)\n",
    "d=np.full((2,2),7)\n",
    "print(d)\n",
    "e=np.eye(2)\n",
    "print(e)\n",
    "f=np.random.random((2,2))\n",
    "print(e)\n"
   ]
  },
  {
   "cell_type": "code",
   "execution_count": 3,
   "id": "6d06931e-86fa-4d12-ac75-765e9a44b1f4",
   "metadata": {},
   "outputs": [
    {
     "name": "stdout",
     "output_type": "stream",
     "text": [
      "<class 'list'>\n",
      "[3, 4, 6, 7]\n"
     ]
    }
   ],
   "source": [
    "b=[3,4,6,7]\n",
    "print(type(b))\n",
    "print(b)"
   ]
  },
  {
   "cell_type": "code",
   "execution_count": 6,
   "id": "966ac509-9c3e-47e1-a998-cd7f8e281135",
   "metadata": {},
   "outputs": [
    {
     "name": "stdout",
     "output_type": "stream",
     "text": [
      "<class 'numpy.ndarray'>\n",
      "(2, 3)\n",
      "1 2 4\n"
     ]
    }
   ],
   "source": [
    "b=np.array([[1,2,3],[4,5,6]])\n",
    "print(type(b))\n",
    "print(b.shape)\n",
    "print(b[0,0] ,b[0,1],b[1,0])"
   ]
  },
  {
   "cell_type": "code",
   "execution_count": 11,
   "id": "3b9c69fb-dc27-4ea9-8d6f-7604128db2ab",
   "metadata": {},
   "outputs": [
    {
     "data": {
      "text/plain": [
       "(array([2.  , 2.25, 2.5 , 2.75, 3.  ]), 0.25)"
      ]
     },
     "execution_count": 11,
     "metadata": {},
     "output_type": "execute_result"
    }
   ],
   "source": [
    "import numpy as np \n",
    "np.linspace(2.0,3.0,num=5)\n",
    "np.linspace(2.0,3.0,num=5, endpoint=False)\n",
    "np.linspace(2.0,3.0,num=5, retstep=True)\n"
   ]
  },
  {
   "cell_type": "code",
   "execution_count": 11,
   "id": "5aed3367-df0f-4ec7-b5a8-d44eb06eee18",
   "metadata": {},
   "outputs": [
    {
     "data": {
      "text/plain": [
       "(array([2.  , 2.25, 2.5 , 2.75, 3.  ]), 0.25)"
      ]
     },
     "execution_count": 11,
     "metadata": {},
     "output_type": "execute_result"
    }
   ],
   "source": [
    "import numpy as np \n",
    "np.linspace(2.0,3.0,num=5)\n",
    "np.linspace(2.0,3.0,num=5, endpoint=False)\n",
    "np.linspace(2.0,3.0,num=5, retstep=True)\n"
   ]
  },
  {
   "cell_type": "code",
   "execution_count": 17,
   "id": "96299e81-9062-4fc5-9cff-723e84fad94a",
   "metadata": {},
   "outputs": [
    {
     "name": "stdout",
     "output_type": "stream",
     "text": [
      "2\n",
      "[[2 3]\n",
      " [6 7]]\n",
      "[[ 1  2  3  4]\n",
      " [ 5  6  7  8]\n",
      " [ 9 10 11 12]]\n",
      "[[2 3]\n",
      " [6 7]]\n",
      "[[2]\n",
      " [6]]\n",
      "[[ 9 10]]\n",
      "[[2 3 4]\n",
      " [6 7 8]]\n",
      "[[3]\n",
      " [7]]\n",
      "[]\n"
     ]
    }
   ],
   "source": [
    "import numpy as np\n",
    "a=np.array([[1,2,3,4],[5,6,7,8],[9,10,11,12]])\n",
    "b=a[:2,1:3]\n",
    "print(a[0,1])\n",
    "print(b)\n",
    "print(a[:,:])\n",
    "print(a[:2,1:3])\n",
    "print(a[0:2,1:2])\n",
    "print(a[2:3,0:2])\n",
    "print(a[:2,1:])\n",
    "#negative scling\n",
    "print(a[-3:-1,-2:-1])\n",
    "print(a[-2:1,1:3])"
   ]
  },
  {
   "cell_type": "code",
   "execution_count": 20,
   "id": "7282189d-4ec8-4c42-963b-87b805e486ad",
   "metadata": {},
   "outputs": [
    {
     "name": "stdout",
     "output_type": "stream",
     "text": [
      "[1 4 5]\n",
      "[1 4 5]\n",
      "1 [1, 1]\n",
      "[2 2]\n"
     ]
    }
   ],
   "source": [
    "# indexing allows you to construct arbitrary array using data from another array\n",
    "import numpy as np\n",
    "a=np.array([[1,2],[3,4],[5,6]])\n",
    "print(a[[0,1,2],[0,1,0]])\n",
    "print(np.array([a[0,0],a[1,1],a[2,0]]))\n",
    "print(a[0,0],[1,1])\n",
    "print(np.array([a[0,1],a[0,1]]))"
   ]
  },
  {
   "cell_type": "code",
   "execution_count": 22,
   "id": "29b933cb-3436-47f0-9ab1-b75958d0a301",
   "metadata": {},
   "outputs": [
    {
     "name": "stdout",
     "output_type": "stream",
     "text": [
      "[[ 1  2  3]\n",
      " [ 4  5  6]\n",
      " [ 7  8  9]\n",
      " [10 11 12]]\n",
      "[ 1  6  7 11]\n",
      "[[11  2  3]\n",
      " [ 4  5 16]\n",
      " [17  8  9]\n",
      " [10 21 12]]\n"
     ]
    }
   ],
   "source": [
    "import numpy as np \n",
    "a=np.array([[1,2,3],[4,5,6],[7,8,9],[10,11,12]])\n",
    "print(a)\n",
    "b=np.array([0,2,0,1])\n",
    "print(a[np.arange(4), b])\n",
    "a[np.arange(4) ,b] +=10\n",
    "print(a)"
   ]
  },
  {
   "cell_type": "code",
   "execution_count": 23,
   "id": "1b668362-425d-45b7-b264-7955546a43b2",
   "metadata": {},
   "outputs": [
    {
     "name": "stdout",
     "output_type": "stream",
     "text": [
      "[[False False]\n",
      " [ True  True]\n",
      " [ True  True]]\n",
      "[3 4 5 6]\n",
      "[3 4 5 6]\n"
     ]
    }
   ],
   "source": [
    "import numpy as np \n",
    "a=np.array([[1,2],[3,4],[5,6]])\n",
    "bool_idx=(a>2)\n",
    "print(bool_idx)\n",
    "print(a[bool_idx])\n",
    "print(a[a>2])"
   ]
  },
  {
   "cell_type": "code",
   "execution_count": 24,
   "id": "a427d7ff-789f-4c38-807f-24e8822b607e",
   "metadata": {},
   "outputs": [
    {
     "name": "stdout",
     "output_type": "stream",
     "text": [
      "int32\n",
      "int64\n"
     ]
    }
   ],
   "source": [
    "#datatype of Array element\n",
    "import numpy as np\n",
    "x=np.array([1,2])\n",
    "print(x.dtype)\n",
    "x=np.array([1,2], dtype=np.int64)\n",
    "print(x.dtype)"
   ]
  },
  {
   "cell_type": "code",
   "execution_count": 26,
   "id": "7996d577-c400-4737-87aa-44161893b6aa",
   "metadata": {},
   "outputs": [
    {
     "name": "stdout",
     "output_type": "stream",
     "text": [
      "[[ 6.  8.]\n",
      " [10. 12.]]\n",
      "[[ 6.  8.]\n",
      " [10. 12.]]\n",
      "[[-4. -4.]\n",
      " [-4. -4.]]\n",
      "[[ 5. 12.]\n",
      " [21. 32.]]\n"
     ]
    }
   ],
   "source": [
    "import numpy as np\n",
    "x=np.array([[1,2],[3,4]],dtype=np.float64)\n",
    "y=np.array([[5,6],[7,8]],dtype=np.float64)\n",
    "print(x+y)\n",
    "print(np.add(x,y))\n",
    "print(x-y)\n",
    "print(x*y)"
   ]
  },
  {
   "cell_type": "code",
   "execution_count": 28,
   "id": "f2ae7372-c220-4246-85ac-3cfb9aff8385",
   "metadata": {},
   "outputs": [
    {
     "name": "stdout",
     "output_type": "stream",
     "text": [
      "Printing the Original square array:\n",
      " [[1 2]\n",
      " [2 3]]\n",
      "Printing the Eigen values of the given square array:\n",
      " [-0.23606798  4.23606798]\n",
      "Printing Right eigenvectors of the given square array:\n",
      " [[-0.85065081 -0.52573111]\n",
      " [ 0.52573111 -0.85065081]]\n"
     ]
    }
   ],
   "source": [
    "# importing numpy library \n",
    "import numpy as np \n",
    "  \n",
    "# create numpy 2d-array \n",
    "m = np.array([[1, 2], \n",
    "              [2, 3]]) \n",
    "  \n",
    "print(\"Printing the Original square array:\\n\", \n",
    "      m) \n",
    "  \n",
    "# finding eigenvalues and eigenvectors \n",
    "w, v = np.linalg.eig(m) \n",
    "  \n",
    "# printing eigen values \n",
    "print(\"Printing the Eigen values of the given square array:\\n\",\n",
    "      w) \n",
    "  \n",
    "# printing eigen vectors \n",
    "print(\"Printing Right eigenvectors of the given square array:\\n\",\n",
    "      v)"
   ]
  },
  {
   "cell_type": "code",
   "execution_count": null,
   "id": "1942d974-c1c9-4cb6-b4fa-af24272c041c",
   "metadata": {},
   "outputs": [],
   "source": []
  }
 ],
 "metadata": {
  "kernelspec": {
   "display_name": "Python 3 (ipykernel)",
   "language": "python",
   "name": "python3"
  },
  "language_info": {
   "codemirror_mode": {
    "name": "ipython",
    "version": 3
   },
   "file_extension": ".py",
   "mimetype": "text/x-python",
   "name": "python",
   "nbconvert_exporter": "python",
   "pygments_lexer": "ipython3",
   "version": "3.11.5"
  }
 },
 "nbformat": 4,
 "nbformat_minor": 5
}
